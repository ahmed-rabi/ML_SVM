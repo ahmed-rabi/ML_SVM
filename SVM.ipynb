{
 "cells": [
  {
   "metadata": {},
   "cell_type": "markdown",
   "source": "### Importing the needed libraries",
   "id": "6637973390a6a680"
  },
  {
   "metadata": {
    "ExecuteTime": {
     "end_time": "2024-12-01T19:35:41.987606Z",
     "start_time": "2024-12-01T19:35:37.110649Z"
    }
   },
   "cell_type": "code",
   "source": [
    "import numpy as np\n",
    "import cv2\n",
    "import albumentations as A\n",
    "import os\n",
    "import pandas as pd\n",
    "from sklearn import preprocessing\n",
    "from sklearn.model_selection import train_test_split\n",
    "from scipy.optimize import minimize\n",
    "from sklearn.metrics import accuracy_score, precision_score, recall_score, f1_score"
   ],
   "id": "24a7975e773ddb8b",
   "outputs": [],
   "execution_count": 1
  },
  {
   "metadata": {},
   "cell_type": "markdown",
   "source": "### Creating the transformer for data augmentation",
   "id": "e1dffa9dd6cbd475"
  },
  {
   "metadata": {
    "ExecuteTime": {
     "end_time": "2024-11-28T20:39:51.697637Z",
     "start_time": "2024-11-28T20:39:51.692922Z"
    }
   },
   "cell_type": "code",
   "source": [
    "transform = A.Compose([\n",
    "    A.HorizontalFlip(p=0.5),\n",
    "    A.RandomRotate90(p=0.5),\n",
    "    A.RandomBrightnessContrast(p=0.2),\n",
    "    A.ShiftScaleRotate(shift_limit=0.05, scale_limit=0.05, rotate_limit=15, p=0.5),\n",
    "])"
   ],
   "id": "44b5445426366ec4",
   "outputs": [],
   "execution_count": 15
  },
  {
   "metadata": {},
   "cell_type": "markdown",
   "source": "### Augmenting the data for better predictions",
   "id": "95b5f6f624aaf662"
  },
  {
   "metadata": {
    "ExecuteTime": {
     "end_time": "2024-11-28T20:46:24.336752Z",
     "start_time": "2024-11-28T20:46:22.195200Z"
    }
   },
   "cell_type": "code",
   "source": [
    "augmentation_path = './Data/Training/no_tumor'\n",
    "output = './Data/Training/augmented_no_tumor'\n",
    "for img in os.listdir(augmentation_path):\n",
    "    image = cv2.imread(os.path.join(augmentation_path, img))\n",
    "    augmented = transform(image=image)['image']\n",
    "    output_img_path = os.path.join(output, f\"{img.split('.')[0]}_aug.jpg\")\n",
    "    cv2.imwrite(output_img_path, augmented)\n",
    "    cv2.imwrite(output + '/' + img, image)"
   ],
   "id": "70b9d411ce34f3bd",
   "outputs": [],
   "execution_count": 22
  },
  {
   "metadata": {},
   "cell_type": "markdown",
   "source": "### Creating the train and test labels and data",
   "id": "e67a1e9548515952"
  },
  {
   "metadata": {
    "ExecuteTime": {
     "end_time": "2024-12-01T19:36:07.428330Z",
     "start_time": "2024-12-01T19:36:07.420897Z"
    }
   },
   "cell_type": "code",
   "source": [
    "train_data = []\n",
    "train_labels = []\n",
    "test_data = []\n",
    "test_labels = []"
   ],
   "id": "91589645ba4cc471",
   "outputs": [],
   "execution_count": 11
  },
  {
   "metadata": {},
   "cell_type": "markdown",
   "source": "### Scaling the data and splitting it and resizing it",
   "id": "81808f90c28cb14"
  },
  {
   "metadata": {
    "ExecuteTime": {
     "end_time": "2024-12-01T19:36:13.024654Z",
     "start_time": "2024-12-01T19:36:08.599156Z"
    }
   },
   "cell_type": "code",
   "source": [
    "for dir in os.listdir(\"./Data\"):\n",
    "    path = \"./Data/\" + dir\n",
    "    for dir2 in os.listdir(path):\n",
    "        path2 = path + \"/\" + dir2\n",
    "        for img in os.listdir(path2):\n",
    "            image = cv2.imread(path2 + \"/\" + img)\n",
    "            image = cv2.resize(image, (64, 64))\n",
    "            image = image.flatten() / 255.0\n",
    "            if dir == \"Testing\":\n",
    "                test_data.append(image)\n",
    "                test_labels.append(dir2)\n",
    "            else:\n",
    "                train_data.append(image)\n",
    "                train_labels.append(dir2)"
   ],
   "id": "a0a83afab8d05fdb",
   "outputs": [],
   "execution_count": 12
  },
  {
   "metadata": {},
   "cell_type": "markdown",
   "source": "### Convert the data type from `list` to `numpy array`",
   "id": "8fbad2f9fbeb6521"
  },
  {
   "metadata": {
    "ExecuteTime": {
     "end_time": "2024-12-01T19:36:13.143508Z",
     "start_time": "2024-12-01T19:36:13.029673Z"
    }
   },
   "cell_type": "code",
   "source": [
    "train_data = np.array(train_data)\n",
    "train_labels = np.array(train_labels)\n",
    "test_data = np.array(test_data)\n",
    "test_labels = np.array(test_labels)"
   ],
   "id": "fc8ac75045bbe043",
   "outputs": [],
   "execution_count": 13
  },
  {
   "metadata": {
    "ExecuteTime": {
     "end_time": "2024-12-01T19:36:13.625574Z",
     "start_time": "2024-12-01T19:36:13.622315Z"
    }
   },
   "cell_type": "code",
   "source": "print(len(train_data), len(train_labels) , len(test_data), len(test_labels))",
   "id": "fa1b3ede850804a2",
   "outputs": [
    {
     "name": "stdout",
     "output_type": "stream",
     "text": [
      "3265 3265 394 394\n"
     ]
    }
   ],
   "execution_count": 14
  },
  {
   "metadata": {
    "ExecuteTime": {
     "end_time": "2024-12-01T19:36:14.708559Z",
     "start_time": "2024-12-01T19:36:14.618156Z"
    }
   },
   "cell_type": "code",
   "source": "xtrain, xtest, ytrain, ytest = train_test_split(train_data, train_labels, test_size=0.2, random_state=42)",
   "id": "55c432dbdeccf262",
   "outputs": [],
   "execution_count": 15
  },
  {
   "metadata": {},
   "cell_type": "markdown",
   "source": "### Convert our labels to number for better handling",
   "id": "ae6b6f36b46f4586"
  },
  {
   "metadata": {
    "ExecuteTime": {
     "end_time": "2024-12-01T19:36:17.974122Z",
     "start_time": "2024-12-01T19:36:17.969293Z"
    }
   },
   "cell_type": "code",
   "source": [
    "le = preprocessing.LabelEncoder()\n",
    "\n",
    "le.fit(train_labels)\n",
    "train_labels = le.transform(train_labels)\n",
    "le.fit(test_labels)\n",
    "test_labels = le.transform(test_labels)"
   ],
   "id": "38f4d3d47f051b27",
   "outputs": [],
   "execution_count": 16
  },
  {
   "metadata": {
    "ExecuteTime": {
     "end_time": "2024-12-01T19:35:52.939508Z",
     "start_time": "2024-12-01T19:35:52.933309Z"
    }
   },
   "cell_type": "code",
   "source": "train_labels[:5], test_labels[:5]",
   "id": "171fa55d6a081f58",
   "outputs": [
    {
     "data": {
      "text/plain": [
       "(array([0, 0, 0, 0, 0]), array([0, 0, 0, 0, 0]))"
      ]
     },
     "execution_count": 8,
     "metadata": {},
     "output_type": "execute_result"
    }
   ],
   "execution_count": 8
  },
  {
   "metadata": {},
   "cell_type": "markdown",
   "source": "### Feature extractor",
   "id": "9b8d8f92e503466c"
  },
  {
   "metadata": {
    "ExecuteTime": {
     "end_time": "2024-12-01T19:35:52.965968Z",
     "start_time": "2024-12-01T19:35:52.960876Z"
    }
   },
   "cell_type": "code",
   "source": [
    "def feature_extractor(dataset):\n",
    "    x_train = dataset\n",
    "    image_dataset_list = []\n",
    "    for image in range(x_train.shape[0]):\n",
    "        df = pd.DataFrame()\n",
    "        input_img = x_train[image, :, :, :]\n",
    "        img = input_img\n",
    "\n",
    "        pixel_values = img.reshape(-1)\n",
    "        df['pixel_values'] = pixel_values\n",
    "\n",
    "        num = 1\n",
    "        kernels = []\n",
    "        for theta in range(2):\n",
    "            theta = theta/ 4.0 * np.pi\n",
    "            for sigma in (1, 3):\n",
    "                lamda = np.pi/4\n",
    "                gamma = 0.5\n",
    "                gabor_label = 'gabor_' + str(num)\n",
    "                ksize = 9\n",
    "                kernel = cv2.getGaborKernel((ksize,ksize), sigma, theta, lamda, gamma)\n",
    "                kernels.append(kernel)\n",
    "                fimg = cv2.filter2D(img, cv2.CV_8UC3, kernel)\n",
    "                filtered_img = fimg.reshape(-1)\n",
    "                df[gabor_label] = filtered_img\n",
    "                num += 1\n",
    "        image_dataset_list.append(df)\n",
    "    image_dataset = pd.concat(image_dataset_list, ignore_index=True)\n",
    "    return image_dataset"
   ],
   "id": "d81d7fff3db8c5d3",
   "outputs": [],
   "execution_count": 9
  },
  {
   "metadata": {
    "ExecuteTime": {
     "end_time": "2024-12-01T19:35:53.354269Z",
     "start_time": "2024-12-01T19:35:52.972974Z"
    }
   },
   "cell_type": "code",
   "source": [
    "image_features = feature_extractor(train_data)\n",
    "image_features_test = feature_extractor(test_data)\n",
    "print(image_features.shape, image_features_test.shape)"
   ],
   "id": "295337cbee000ad3",
   "outputs": [
    {
     "ename": "IndexError",
     "evalue": "too many indices for array: array is 2-dimensional, but 4 were indexed",
     "output_type": "error",
     "traceback": [
      "\u001B[1;31m---------------------------------------------------------------------------\u001B[0m",
      "\u001B[1;31mIndexError\u001B[0m                                Traceback (most recent call last)",
      "Cell \u001B[1;32mIn[10], line 1\u001B[0m\n\u001B[1;32m----> 1\u001B[0m image_features \u001B[38;5;241m=\u001B[39m \u001B[43mfeature_extractor\u001B[49m\u001B[43m(\u001B[49m\u001B[43mtrain_data\u001B[49m\u001B[43m)\u001B[49m\n\u001B[0;32m      2\u001B[0m image_features_test \u001B[38;5;241m=\u001B[39m feature_extractor(test_data)\n\u001B[0;32m      3\u001B[0m \u001B[38;5;28mprint\u001B[39m(image_features\u001B[38;5;241m.\u001B[39mshape, image_features_test\u001B[38;5;241m.\u001B[39mshape)\n",
      "Cell \u001B[1;32mIn[9], line 6\u001B[0m, in \u001B[0;36mfeature_extractor\u001B[1;34m(dataset)\u001B[0m\n\u001B[0;32m      4\u001B[0m \u001B[38;5;28;01mfor\u001B[39;00m image \u001B[38;5;129;01min\u001B[39;00m \u001B[38;5;28mrange\u001B[39m(x_train\u001B[38;5;241m.\u001B[39mshape[\u001B[38;5;241m0\u001B[39m]):\n\u001B[0;32m      5\u001B[0m     df \u001B[38;5;241m=\u001B[39m pd\u001B[38;5;241m.\u001B[39mDataFrame()\n\u001B[1;32m----> 6\u001B[0m     input_img \u001B[38;5;241m=\u001B[39m \u001B[43mx_train\u001B[49m\u001B[43m[\u001B[49m\u001B[43mimage\u001B[49m\u001B[43m,\u001B[49m\u001B[43m \u001B[49m\u001B[43m:\u001B[49m\u001B[43m,\u001B[49m\u001B[43m \u001B[49m\u001B[43m:\u001B[49m\u001B[43m,\u001B[49m\u001B[43m \u001B[49m\u001B[43m:\u001B[49m\u001B[43m]\u001B[49m\n\u001B[0;32m      7\u001B[0m     img \u001B[38;5;241m=\u001B[39m input_img\n\u001B[0;32m      9\u001B[0m     pixel_values \u001B[38;5;241m=\u001B[39m img\u001B[38;5;241m.\u001B[39mreshape(\u001B[38;5;241m-\u001B[39m\u001B[38;5;241m1\u001B[39m)\n",
      "\u001B[1;31mIndexError\u001B[0m: too many indices for array: array is 2-dimensional, but 4 were indexed"
     ]
    }
   ],
   "execution_count": 10
  },
  {
   "metadata": {},
   "cell_type": "markdown",
   "source": "### Reshaping to a vector for SVM",
   "id": "5fe311d5094f5267"
  },
  {
   "metadata": {
    "ExecuteTime": {
     "end_time": "2024-12-01T19:35:53.362276500Z",
     "start_time": "2024-12-01T06:03:56.237295Z"
    }
   },
   "cell_type": "code",
   "source": [
    "n_features = image_features.shape[1]\n",
    "image_features = np.expand_dims(image_features, axis=0)\n",
    "X_for_SVM = np.reshape(image_features, (train_data.shape[0], -1))\n",
    "\n",
    "n_features_test = image_features_test.shape[1]\n",
    "image_features_test = np.expand_dims(image_features_test, axis=0)\n",
    "X_for_SVM_test = np.reshape(image_features_test, (test_data.shape[0], -1))\n",
    "\n",
    "print(X_for_SVM.shape , X_for_SVM_test.shape)"
   ],
   "id": "8436735bd29e7723",
   "outputs": [
    {
     "name": "stdout",
     "output_type": "stream",
     "text": [
      "(3265, 61440) (394, 61440)\n"
     ]
    }
   ],
   "execution_count": 118
  },
  {
   "metadata": {},
   "cell_type": "markdown",
   "source": "### Testing",
   "id": "559d170c3bf253b7"
  },
  {
   "metadata": {
    "ExecuteTime": {
     "end_time": "2024-12-01T19:41:04.078420Z",
     "start_time": "2024-12-01T19:36:28.772242Z"
    }
   },
   "cell_type": "code",
   "source": [
    "from sklearn.decomposition import PCA\n",
    "from sklearn.svm import SVC\n",
    "\n",
    "pca = PCA(n_components=0.98)\n",
    "pca_train = pca.fit_transform(xtrain)\n",
    "pca_test = pca.transform(xtest)\n",
    "svm = SVC()\n",
    "\n",
    "svm.fit(xtrain, ytrain)\n",
    "y_pred = svm.predict(xtest)\n",
    "print(accuracy_score(ytest, y_pred))\n"
   ],
   "id": "157fd5aa6302976a",
   "outputs": [
    {
     "name": "stdout",
     "output_type": "stream",
     "text": [
      "0.8330781010719756\n"
     ]
    }
   ],
   "execution_count": 17
  },
  {
   "metadata": {},
   "cell_type": "markdown",
   "source": "### GUI\n",
   "id": "c99be9534ef82df2"
  },
  {
   "metadata": {
    "ExecuteTime": {
     "end_time": "2024-12-01T20:06:23.319405Z",
     "start_time": "2024-12-01T20:06:17.313567Z"
    }
   },
   "cell_type": "code",
   "source": [
    "import sys\n",
    "from PyQt5.QtWidgets import QApplication, QMainWindow, QLabel\n",
    "from PyQt5.QtGui import QIcon # import this to handle the icon\n",
    "from PyQt5.QtGui import QFont\n",
    "class MainWindow(QMainWindow):\n",
    "    def __init__(self):\n",
    "        super().__init__()\n",
    "        self.setWindowTitle(\"Brain Image Classification\")  # set the title of the app\n",
    "        self.setGeometry(300, 300, 600, 400)               # set the X and Y width and height of the window\n",
    "        self.setWindowIcon(QIcon('./img.png'))\n",
    "        label = QLabel(\"classifier\", self)\n",
    "        label.setFont(QFont('Arial', 20))\n",
    "        label.setGeometry(0, 0, 500, 500)\n",
    "def main():\n",
    "    app = QApplication(sys.argv)\n",
    "    window = MainWindow()\n",
    "    window.show()          # display a window\n",
    "    sys.exit(app.exec_())  # make the window stay until we exit from it\n",
    "if __name__ == '__main__':\n",
    "    main()"
   ],
   "id": "f8af6033ed08391a",
   "outputs": [
    {
     "ename": "SystemExit",
     "evalue": "0",
     "output_type": "error",
     "traceback": [
      "An exception has occurred, use %tb to see the full traceback.\n",
      "\u001B[1;31mSystemExit\u001B[0m\u001B[1;31m:\u001B[0m 0\n"
     ]
    },
    {
     "name": "stderr",
     "output_type": "stream",
     "text": [
      "C:\\Users\\Ahmed Rabie\\AppData\\Roaming\\Python\\Python312\\site-packages\\IPython\\core\\interactiveshell.py:3585: UserWarning: To exit: use 'exit', 'quit', or Ctrl-D.\n",
      "  warn(\"To exit: use 'exit', 'quit', or Ctrl-D.\", stacklevel=1)\n"
     ]
    }
   ],
   "execution_count": 18
  }
 ],
 "metadata": {
  "kernelspec": {
   "name": "python3",
   "language": "python",
   "display_name": "Python 3 (ipykernel)"
  }
 },
 "nbformat": 5,
 "nbformat_minor": 9
}
