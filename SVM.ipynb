{
 "cells": [
  {
   "cell_type": "markdown",
   "id": "6637973390a6a680",
   "metadata": {},
   "source": [
    "### Importing the needed libraries"
   ]
  },
  {
   "cell_type": "code",
   "execution_count": 1,
   "id": "24a7975e773ddb8b",
   "metadata": {
    "ExecuteTime": {
     "end_time": "2024-12-02T05:27:12.244700Z",
     "start_time": "2024-12-02T05:27:05.627067Z"
    }
   },
   "outputs": [],
   "source": [
    "import numpy as np\n",
    "import cv2\n",
    "import albumentations as A\n",
    "import os\n",
    "import pandas as pd\n",
    "from sklearn import preprocessing\n",
    "from sklearn.model_selection import train_test_split\n",
    "from scipy.optimize import minimize\n",
    "from sklearn.metrics import accuracy_score, precision_score, recall_score, f1_score\n",
    "import matplotlib.pyplot as plt\n",
    "from matplotlib import style"
   ]
  },
  {
   "cell_type": "markdown",
   "id": "e1dffa9dd6cbd475",
   "metadata": {},
   "source": [
    "### Creating the transformer for data augmentation"
   ]
  },
  {
   "cell_type": "code",
   "execution_count": 15,
   "id": "44b5445426366ec4",
   "metadata": {
    "ExecuteTime": {
     "end_time": "2024-11-28T20:39:51.697637Z",
     "start_time": "2024-11-28T20:39:51.692922Z"
    }
   },
   "outputs": [],
   "source": [
    "transform = A.Compose([\n",
    "    A.HorizontalFlip(p=0.5),\n",
    "    A.RandomRotate90(p=0.5),\n",
    "    A.RandomBrightnessContrast(p=0.2),\n",
    "    A.ShiftScaleRotate(shift_limit=0.05, scale_limit=0.05, rotate_limit=15, p=0.5),\n",
    "])"
   ]
  },
  {
   "cell_type": "markdown",
   "id": "95b5f6f624aaf662",
   "metadata": {},
   "source": [
    "### Augmenting the data for better predictions"
   ]
  },
  {
   "cell_type": "code",
   "execution_count": 22,
   "id": "70b9d411ce34f3bd",
   "metadata": {
    "ExecuteTime": {
     "end_time": "2024-11-28T20:46:24.336752Z",
     "start_time": "2024-11-28T20:46:22.195200Z"
    }
   },
   "outputs": [],
   "source": [
    "augmentation_path = './Data/Training/no_tumor'\n",
    "output = './Data/Training/augmented_no_tumor'\n",
    "for img in os.listdir(augmentation_path):\n",
    "    image = cv2.imread(os.path.join(augmentation_path, img))\n",
    "    augmented = transform(image=image)['image']\n",
    "    output_img_path = os.path.join(output, f\"{img.split('.')[0]}_aug.jpg\")\n",
    "    cv2.imwrite(output_img_path, augmented)\n",
    "    cv2.imwrite(output + '/' + img, image)"
   ]
  },
  {
   "cell_type": "markdown",
   "id": "e67a1e9548515952",
   "metadata": {},
   "source": [
    "### Creating the train and test labels and data"
   ]
  },
  {
   "cell_type": "code",
   "execution_count": 2,
   "id": "91589645ba4cc471",
   "metadata": {
    "ExecuteTime": {
     "end_time": "2024-12-02T09:06:41.590643Z",
     "start_time": "2024-12-02T09:06:41.561949Z"
    }
   },
   "outputs": [],
   "source": [
    "train_data = []\n",
    "train_labels = []\n",
    "test_data = []\n",
    "test_labels = []"
   ]
  },
  {
   "cell_type": "markdown",
   "id": "81808f90c28cb14",
   "metadata": {},
   "source": [
    "### Scaling the data and splitting it and resizing it"
   ]
  },
  {
   "cell_type": "code",
   "execution_count": 3,
   "id": "a0a83afab8d05fdb",
   "metadata": {
    "ExecuteTime": {
     "end_time": "2024-12-02T09:06:55.307137Z",
     "start_time": "2024-12-02T09:06:41.590643Z"
    }
   },
   "outputs": [],
   "source": [
    "for dir in os.listdir(\"./Data\"):\n",
    "    path = \"./Data/\" + dir\n",
    "    for dir2 in os.listdir(path):\n",
    "        path2 = path + \"/\" + dir2\n",
    "        for img in os.listdir(path2):\n",
    "            image = cv2.imread(path2 + \"/\" + img)\n",
    "            image = cv2.cvtColor(image, cv2.COLOR_BGR2GRAY)\n",
    "            image = cv2.resize(image, (28, 28))\n",
    "            image = image.flatten() / 255.0\n",
    "            if dir == \"Testing\":\n",
    "                test_data.append(image)\n",
    "                test_labels.append(dir2)\n",
    "            else:\n",
    "                train_data.append(image)\n",
    "                train_labels.append(dir2)"
   ]
  },
  {
   "cell_type": "markdown",
   "id": "8fbad2f9fbeb6521",
   "metadata": {},
   "source": [
    "### Convert the data type from `list` to `numpy array`"
   ]
  },
  {
   "cell_type": "code",
   "execution_count": 4,
   "id": "fc8ac75045bbe043",
   "metadata": {
    "ExecuteTime": {
     "end_time": "2024-12-02T09:06:55.529026Z",
     "start_time": "2024-12-02T09:06:55.346826Z"
    }
   },
   "outputs": [],
   "source": [
    "train_data = np.array(train_data)\n",
    "train_labels = np.array(train_labels)\n",
    "test_data = np.array(test_data)\n",
    "test_labels = np.array(test_labels)"
   ]
  },
  {
   "cell_type": "code",
   "execution_count": 5,
   "id": "fa1b3ede850804a2",
   "metadata": {
    "ExecuteTime": {
     "end_time": "2024-12-02T09:06:55.548616Z",
     "start_time": "2024-12-02T09:06:55.538544Z"
    }
   },
   "outputs": [
    {
     "name": "stdout",
     "output_type": "stream",
     "text": [
      "3265 3265 394 394\n"
     ]
    }
   ],
   "source": [
    "print(len(train_data), len(train_labels) , len(test_data), len(test_labels))"
   ]
  },
  {
   "cell_type": "code",
   "execution_count": 6,
   "id": "55c432dbdeccf262",
   "metadata": {
    "ExecuteTime": {
     "end_time": "2024-12-02T09:06:55.711364Z",
     "start_time": "2024-12-02T09:06:55.571914Z"
    }
   },
   "outputs": [],
   "source": [
    "xtrain, xtest, ytrain, ytest = train_test_split(train_data, train_labels, test_size=0.2, random_state=42)"
   ]
  },
  {
   "cell_type": "markdown",
   "id": "ae6b6f36b46f4586",
   "metadata": {},
   "source": [
    "### Convert our labels to number for better handling"
   ]
  },
  {
   "cell_type": "code",
   "execution_count": 7,
   "id": "38f4d3d47f051b27",
   "metadata": {
    "ExecuteTime": {
     "end_time": "2024-12-02T09:06:55.750092Z",
     "start_time": "2024-12-02T09:06:55.740276Z"
    }
   },
   "outputs": [],
   "source": [
    "le = preprocessing.LabelEncoder()\n",
    "\n",
    "le.fit(train_labels)\n",
    "train_labels = le.transform(train_labels)\n",
    "le.fit(test_labels)\n",
    "test_labels = le.transform(test_labels)"
   ]
  },
  {
   "cell_type": "code",
   "execution_count": 8,
   "id": "171fa55d6a081f58",
   "metadata": {
    "ExecuteTime": {
     "end_time": "2024-12-02T09:06:55.766410Z",
     "start_time": "2024-12-02T09:06:55.759117Z"
    }
   },
   "outputs": [
    {
     "data": {
      "text/plain": [
       "((3265, 784), (2612, 784))"
      ]
     },
     "execution_count": 8,
     "metadata": {},
     "output_type": "execute_result"
    }
   ],
   "source": [
    "train_data.shape, xtrain.shape"
   ]
  },
  {
   "cell_type": "markdown",
   "id": "b8b5663d",
   "metadata": {},
   "source": [
    "### Support Vector Machine From Scratch"
   ]
  },
  {
   "cell_type": "code",
   "execution_count": null,
   "id": "2835f4c3",
   "metadata": {},
   "outputs": [],
   "source": []
  }
 ],
 "metadata": {
  "kernelspec": {
   "display_name": "Python 3",
   "language": "python",
   "name": "python3"
  },
  "language_info": {
   "codemirror_mode": {
    "name": "ipython",
    "version": 3
   },
   "file_extension": ".py",
   "mimetype": "text/x-python",
   "name": "python",
   "nbconvert_exporter": "python",
   "pygments_lexer": "ipython3",
   "version": "3.12.5"
  }
 },
 "nbformat": 5,
 "nbformat_minor": 9
}
